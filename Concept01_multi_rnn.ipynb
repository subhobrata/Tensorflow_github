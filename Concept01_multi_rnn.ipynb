{
  "nbformat": 4,
  "nbformat_minor": 0,
  "metadata": {
    "colab": {
      "name": "Concept01_multi_rnn.ipynb",
      "version": "0.3.2",
      "provenance": [],
      "include_colab_link": true
    },
    "kernelspec": {
      "name": "python3",
      "display_name": "Python 3"
    }
  },
  "cells": [
    {
      "cell_type": "markdown",
      "metadata": {
        "id": "view-in-github",
        "colab_type": "text"
      },
      "source": [
        "<a href=\"https://colab.research.google.com/github/subhobrata/Tensorflow_github/blob/master/Concept01_multi_rnn.ipynb\" target=\"_parent\"><img src=\"https://colab.research.google.com/assets/colab-badge.svg\" alt=\"Open In Colab\"/></a>"
      ]
    },
    {
      "metadata": {
        "id": "XVFbsZNof-T1",
        "colab_type": "code",
        "colab": {}
      },
      "cell_type": "code",
      "source": [
        "import tensorflow as tf"
      ],
      "execution_count": 0,
      "outputs": []
    },
    {
      "metadata": {
        "id": "z9MADxlAgBYk",
        "colab_type": "code",
        "colab": {}
      },
      "cell_type": "code",
      "source": [
        "input_dim = 1\n",
        "seq_size = 3"
      ],
      "execution_count": 0,
      "outputs": []
    },
    {
      "metadata": {
        "id": "BXgahcKJgELS",
        "colab_type": "code",
        "colab": {}
      },
      "cell_type": "code",
      "source": [
        "input_placeholder = tf.placeholder(dtype=tf.float32, shape=[None, seq_size, input_dim])"
      ],
      "execution_count": 0,
      "outputs": []
    },
    {
      "metadata": {
        "id": "rC7d1l6ogUi0",
        "colab_type": "code",
        "colab": {}
      },
      "cell_type": "code",
      "source": [
        "def make_cell(state_dim):\n",
        "    return tf.contrib.rnn.LSTMCell(state_dim)"
      ],
      "execution_count": 0,
      "outputs": []
    },
    {
      "metadata": {
        "id": "nKsO29KBgddL",
        "colab_type": "code",
        "colab": {
          "base_uri": "https://localhost:8080/",
          "height": 321
        },
        "outputId": "6f04099a-d522-4512-d11f-d1fa3a75dc93"
      },
      "cell_type": "code",
      "source": [
        "with tf.variable_scope(\"first_cell\") as scope:\n",
        "    cell = make_cell(state_dim=10)\n",
        "    outputs, states = tf.nn.dynamic_rnn(cell, input_placeholder, dtype=tf.float32)"
      ],
      "execution_count": 5,
      "outputs": [
        {
          "output_type": "stream",
          "text": [
            "\n",
            "WARNING: The TensorFlow contrib module will not be included in TensorFlow 2.0.\n",
            "For more information, please see:\n",
            "  * https://github.com/tensorflow/community/blob/master/rfcs/20180907-contrib-sunset.md\n",
            "  * https://github.com/tensorflow/addons\n",
            "If you depend on functionality not listed there, please file an issue.\n",
            "\n",
            "WARNING:tensorflow:From <ipython-input-4-55e96866f601>:2: LSTMCell.__init__ (from tensorflow.python.ops.rnn_cell_impl) is deprecated and will be removed in a future version.\n",
            "Instructions for updating:\n",
            "This class is equivalent as tf.keras.layers.LSTMCell, and will be replaced by that in Tensorflow 2.0.\n",
            "WARNING:tensorflow:From <ipython-input-5-37cf290810c4>:3: dynamic_rnn (from tensorflow.python.ops.rnn) is deprecated and will be removed in a future version.\n",
            "Instructions for updating:\n",
            "Please use `keras.layers.RNN(cell)`, which is equivalent to this API\n",
            "WARNING:tensorflow:From /usr/local/lib/python3.6/dist-packages/tensorflow/python/ops/tensor_array_ops.py:162: colocate_with (from tensorflow.python.framework.ops) is deprecated and will be removed in a future version.\n",
            "Instructions for updating:\n",
            "Colocations handled automatically by placer.\n"
          ],
          "name": "stdout"
        }
      ]
    },
    {
      "metadata": {
        "id": "6mtlcxLTg_bc",
        "colab_type": "code",
        "colab": {}
      },
      "cell_type": "code",
      "source": [
        "with tf.variable_scope(\"second_cell\") as scope:\n",
        "    cell2 = make_cell(state_dim=10)\n",
        "    outputs2, states2 = tf.nn.dynamic_rnn(cell2, outputs, dtype=tf.float32)"
      ],
      "execution_count": 0,
      "outputs": []
    },
    {
      "metadata": {
        "id": "JG1OlA-ghASz",
        "colab_type": "code",
        "colab": {}
      },
      "cell_type": "code",
      "source": [
        "def make_multi_cell(state_dim, num_layers):\n",
        "    cells = [make_cell(state_dim) for _ in range(num_layers)]\n",
        "    return tf.contrib.rnn.MultiRNNCell(cells)"
      ],
      "execution_count": 0,
      "outputs": []
    },
    {
      "metadata": {
        "id": "1l5gGqmMhFka",
        "colab_type": "code",
        "colab": {
          "base_uri": "https://localhost:8080/",
          "height": 70
        },
        "outputId": "2df179cd-4565-43ea-99e1-6aa8819e89c6"
      },
      "cell_type": "code",
      "source": [
        "multi_cell = make_multi_cell(state_dim=10, num_layers=5)\n",
        "outputs5, states5 = tf.nn.dynamic_rnn(multi_cell, input_placeholder, dtype=tf.float32)"
      ],
      "execution_count": 9,
      "outputs": [
        {
          "output_type": "stream",
          "text": [
            "WARNING:tensorflow:From <ipython-input-7-7a553f29b838>:3: MultiRNNCell.__init__ (from tensorflow.python.ops.rnn_cell_impl) is deprecated and will be removed in a future version.\n",
            "Instructions for updating:\n",
            "This class is equivalent as tf.keras.layers.StackedRNNCells, and will be replaced by that in Tensorflow 2.0.\n"
          ],
          "name": "stdout"
        }
      ]
    },
    {
      "metadata": {
        "id": "hgBOk_fChLLj",
        "colab_type": "code",
        "colab": {}
      },
      "cell_type": "code",
      "source": [
        "input_seq = [[1], [2], [3]]"
      ],
      "execution_count": 0,
      "outputs": []
    },
    {
      "metadata": {
        "id": "BeAwRx09hNpb",
        "colab_type": "code",
        "colab": {}
      },
      "cell_type": "code",
      "source": [
        "init_op = tf.global_variables_initializer()\n",
        "\n",
        "sess = tf.InteractiveSession()\n",
        "sess.run(init_op)"
      ],
      "execution_count": 0,
      "outputs": []
    },
    {
      "metadata": {
        "id": "EieTg4gUhR4G",
        "colab_type": "code",
        "colab": {
          "base_uri": "https://localhost:8080/",
          "height": 390
        },
        "outputId": "c0e28176-2738-42ca-ba96-5a8756617f12"
      },
      "cell_type": "code",
      "source": [
        "outputs_val, outputs2_val, outputs5_val = sess.run([outputs, outputs2, outputs5], \n",
        "                                                   feed_dict={input_placeholder: [input_seq]})\n",
        "print(outputs_val)\n",
        "print(outputs2_val)\n",
        "print(outputs5_val)"
      ],
      "execution_count": 12,
      "outputs": [
        {
          "output_type": "stream",
          "text": [
            "[[[ 0.00862958 -0.04862817 -0.07832549  0.05018071 -0.00281666\n",
            "    0.03825846 -0.0492836   0.00519408 -0.08104668 -0.04628776]\n",
            "  [ 0.01620761 -0.14132999 -0.18491396  0.10147669  0.00129665\n",
            "    0.08914511 -0.12003388  0.01105077 -0.22361566 -0.12100323]\n",
            "  [ 0.0189993  -0.26648328 -0.26055944  0.13057198  0.01273135\n",
            "    0.11925656 -0.18121615  0.01575405 -0.39655015 -0.20211655]]]\n",
            "[[[ 0.00352785 -0.00324315  0.00759446 -0.00842723 -0.01224187\n",
            "   -0.00255582  0.00456926  0.00586446  0.01270771  0.00426118]\n",
            "  [ 0.01562096 -0.00856831  0.01967602 -0.02709074 -0.03729519\n",
            "   -0.00365748  0.01132826  0.01913363  0.04306611  0.01556571]\n",
            "  [ 0.03968767 -0.01330871  0.02540193 -0.05162356 -0.06766132\n",
            "    0.00486391  0.0141428   0.03832867  0.09012668  0.03246512]]]\n",
            "[[[-2.9747920e-05  8.7979584e-05 -2.0910549e-05 -4.0558469e-05\n",
            "   -6.1828359e-06  2.3819233e-05 -5.5795476e-06  9.3664748e-06\n",
            "   -2.3638288e-05  1.7709372e-06]\n",
            "  [-1.4513017e-04  4.4339770e-04 -1.1000564e-04 -2.1241950e-04\n",
            "   -1.4879274e-05  1.2014620e-04 -1.6000089e-05  5.9383539e-05\n",
            "   -1.1353810e-04  2.1485819e-05]\n",
            "  [-4.0504476e-04  1.2631413e-03 -3.3403834e-04 -6.3249917e-04\n",
            "    8.2452443e-06  3.4507402e-04 -8.4244675e-06  2.0163303e-04\n",
            "   -3.0809367e-04  1.0257580e-04]]]\n"
          ],
          "name": "stdout"
        }
      ]
    }
  ]
}