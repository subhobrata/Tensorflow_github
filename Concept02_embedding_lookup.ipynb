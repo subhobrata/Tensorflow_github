{
  "nbformat": 4,
  "nbformat_minor": 0,
  "metadata": {
    "colab": {
      "name": "Concept02_embedding_lookup.ipynb",
      "version": "0.3.2",
      "provenance": [],
      "include_colab_link": true
    },
    "kernelspec": {
      "name": "python3",
      "display_name": "Python 3"
    }
  },
  "cells": [
    {
      "cell_type": "markdown",
      "metadata": {
        "id": "view-in-github",
        "colab_type": "text"
      },
      "source": [
        "<a href=\"https://colab.research.google.com/github/subhobrata/Tensorflow_github/blob/master/Concept02_embedding_lookup.ipynb\" target=\"_parent\"><img src=\"https://colab.research.google.com/assets/colab-badge.svg\" alt=\"Open In Colab\"/></a>"
      ]
    },
    {
      "metadata": {
        "id": "MoxK4zrrhv8S",
        "colab_type": "code",
        "colab": {}
      },
      "cell_type": "code",
      "source": [
        "import tensorflow as tf\n",
        "sess = tf.InteractiveSession()"
      ],
      "execution_count": 0,
      "outputs": []
    },
    {
      "metadata": {
        "id": "sHUs7Rdsh-k9",
        "colab_type": "code",
        "colab": {}
      },
      "cell_type": "code",
      "source": [
        "embeddings_0d = tf.constant([17,22,35,51])"
      ],
      "execution_count": 0,
      "outputs": []
    },
    {
      "metadata": {
        "id": "oc_mOZBSiCFK",
        "colab_type": "code",
        "colab": {}
      },
      "cell_type": "code",
      "source": [
        "embeddings_4d = tf.constant([[1, 0, 0, 0],\n",
        "                             [0, 1, 0, 0],\n",
        "                             [0, 0, 1, 0],\n",
        "                             [0, 0, 0, 1]])"
      ],
      "execution_count": 0,
      "outputs": []
    },
    {
      "metadata": {
        "id": "bfVfLzrOiKE7",
        "colab_type": "code",
        "colab": {}
      },
      "cell_type": "code",
      "source": [
        "embeddings_2x2d = tf.constant([[[1, 0], [0, 0]],\n",
        "                               [[0, 1], [0, 0]],\n",
        "                               [[0, 0], [1, 0]],\n",
        "                               [[0, 0], [0, 1]]])"
      ],
      "execution_count": 0,
      "outputs": []
    },
    {
      "metadata": {
        "id": "lbhKFLStiKvD",
        "colab_type": "code",
        "colab": {}
      },
      "cell_type": "code",
      "source": [
        "\n",
        "ids = tf.constant([1, 0, 2])"
      ],
      "execution_count": 0,
      "outputs": []
    },
    {
      "metadata": {
        "id": "S_frKEabiNY0",
        "colab_type": "code",
        "colab": {
          "base_uri": "https://localhost:8080/",
          "height": 107
        },
        "outputId": "58c5e864-6769-428b-96ed-984945977165"
      },
      "cell_type": "code",
      "source": [
        "lookup_0d = sess.run(tf.nn.embedding_lookup(embeddings_0d, ids))\n",
        "print(lookup_0d)"
      ],
      "execution_count": 6,
      "outputs": [
        {
          "output_type": "stream",
          "text": [
            "WARNING:tensorflow:From /usr/local/lib/python3.6/dist-packages/tensorflow/python/ops/embedding_ops.py:132: colocate_with (from tensorflow.python.framework.ops) is deprecated and will be removed in a future version.\n",
            "Instructions for updating:\n",
            "Colocations handled automatically by placer.\n",
            "[22 17 35]\n"
          ],
          "name": "stdout"
        }
      ]
    },
    {
      "metadata": {
        "id": "ZSwTUmDXiQDa",
        "colab_type": "code",
        "colab": {
          "base_uri": "https://localhost:8080/",
          "height": 70
        },
        "outputId": "d29e091f-fefc-4c78-fdf9-1863aa507785"
      },
      "cell_type": "code",
      "source": [
        "lookup_4d = sess.run(tf.nn.embedding_lookup(embeddings_4d, ids))\n",
        "print(lookup_4d)"
      ],
      "execution_count": 7,
      "outputs": [
        {
          "output_type": "stream",
          "text": [
            "[[0 1 0 0]\n",
            " [1 0 0 0]\n",
            " [0 0 1 0]]\n"
          ],
          "name": "stdout"
        }
      ]
    },
    {
      "metadata": {
        "id": "y1sUeskAiSPO",
        "colab_type": "code",
        "colab": {
          "base_uri": "https://localhost:8080/",
          "height": 158
        },
        "outputId": "6303ec31-a1cb-4f97-89de-93e0b49fe615"
      },
      "cell_type": "code",
      "source": [
        "lookup_2x2d = sess.run(tf.nn.embedding_lookup(embeddings_2x2d, ids))\n",
        "print(lookup_2x2d)"
      ],
      "execution_count": 8,
      "outputs": [
        {
          "output_type": "stream",
          "text": [
            "[[[0 1]\n",
            "  [0 0]]\n",
            "\n",
            " [[1 0]\n",
            "  [0 0]]\n",
            "\n",
            " [[0 0]\n",
            "  [1 0]]]\n"
          ],
          "name": "stdout"
        }
      ]
    }
  ]
}